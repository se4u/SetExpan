{
 "cells": [
  {
   "cell_type": "code",
   "execution_count": 4,
   "metadata": {
    "collapsed": false,
    "deletable": true,
    "editable": true
   },
   "outputs": [
    {
     "name": "stdout",
     "output_type": "stream",
     "text": [
      "loading eid and name maps\n",
      "loading eid and skipgram maps\n",
      "loading skipgram strength map\n",
      "loading eid and type maps\n",
      "loading type strength map\n",
      "Finish loading all dataset, using 12.1625890732 seconds\n"
     ]
    }
   ],
   "source": [
    "'''\n",
    "__author__: Pushpendre\n",
    "__description__: The main function for running SetExpan algorithm\n",
    "__latest_update__: 10/12/2017\n",
    "'''\n",
    "import util\n",
    "import time\n",
    "\n",
    "folder = '../../../../data_dir/tac2017.SetExpan.data/intermediate/'\n",
    "start = time.time()\n",
    "print('loading eid and name maps')\n",
    "eid2ename, ename2eid = util.loadEidToEntityMap(folder+'entity2id.txt') #entity2id.txt\n",
    "print('loading eid and skipgram maps')\n",
    "eid2patterns, pattern2eids = util.loadFeaturesAndEidMap(folder+'eidSkipgramCounts.txt') #eidSkipgramCount.txt\n",
    "print('loading skipgram strength map')\n",
    "eidAndPattern2strength = util.loadWeightByEidAndFeatureMap(folder+'eidSkipgram2TFIDFStrength.txt', idx=-1) #(eid, feature, weight) file\n",
    "print('loading eid and type maps')\n",
    "eid2types, type2eids = util.loadFeaturesAndEidMap(folder+'eidTypeCounts.txt') #eidTypeCount.txt\n",
    "print('loading type strength map')\n",
    "eidAndType2strength = util.loadWeightByEidAndFeatureMap(folder+'eidType2TFIDFStrength.txt', idx=-1) #(eid, feature, weight) file\n",
    "end = time.time()\n",
    "print(\"Finish loading all dataset, using %s seconds\" % (end-start))\n",
    "guid2name = dict(row.strip().split('\\t') for row in open('/Users/rastogi/projects/erdemo/data_dir/tac2017.i5/entity.map'))\n",
    "## Start set expansion\n",
    "queries = dict((int(ee[0]), ee) for ee in (e.strip().split() for e in open('../../../../data_dir/tac2017.queries.txt').readlines()))\n",
    "qid = 101\n",
    "userInput = queries[qid][6:]\n",
    "seedEidsWithConfidence = [(ename2eid[ele.lower()], 0.0) for ele in userInput]\n",
    "import set_expan\n",
    "expandedEidsWithConfidence = set_expan.setExpan(\n",
    "    seedEidsWithConfidence=seedEidsWithConfidence,\n",
    "    negativeSeedEids=set(),\n",
    "    eid2patterns=eid2patterns,\n",
    "    pattern2eids=pattern2eids,\n",
    "    eidAndPattern2strength=eidAndPattern2strength,\n",
    "    eid2types=eid2types,\n",
    "    type2eids=type2eids,\n",
    "    eidAndType2strength=eidAndType2strength,\n",
    "    eid2ename=eid2ename,\n",
    "    FLAGS_VERBOSE=True,\n",
    "    FLAGS_DEBUG=True)\n",
    "print ([guid2name[e] for e in userInput])\n",
    "print [guid2name[eid2ename[e[0]]] for e in expandedEidsWithConfidence if e[0] not in userInput]\n",
    "print(\"=== In test case ===\")\n",
    "for ele in expandedEidsWithConfidence:\n",
    "  print(\"eid=\", ele[0], \"ename=\", eid2ename[ele[0]])\n",
    "\n",
    "with open(\"./setexpan_result.txt\", \"w\") as fout:\n",
    "  for ele in expandedEidsWithConfidence:\n",
    "    fout.write(\"eid=\" + str(ele[0]) + \"\\t\" + \"ename=\" + eid2ename[ele[0]] + \"\\n\")"
   ]
  }
 ],
 "metadata": {
  "kernelspec": {
   "display_name": "Python 2",
   "language": "python",
   "name": "python2"
  },
  "language_info": {
   "codemirror_mode": {
    "name": "ipython",
    "version": 2
   },
   "file_extension": ".py",
   "mimetype": "text/x-python",
   "name": "python",
   "nbconvert_exporter": "python",
   "pygments_lexer": "ipython2",
   "version": "2.7.11"
  }
 },
 "nbformat": 4,
 "nbformat_minor": 2
}
